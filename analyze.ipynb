{
 "cells": [
  {
   "attachments": {},
   "cell_type": "markdown",
   "metadata": {},
   "source": [
    "# Analyze summaries of GPT-3 prompting experiments"
   ]
  },
  {
   "attachments": {},
   "cell_type": "markdown",
   "metadata": {},
   "source": [
    "## Load libraries"
   ]
  },
  {
   "cell_type": "code",
   "execution_count": null,
   "metadata": {},
   "outputs": [],
   "source": [
    "RESULT_DIRECTORY = 'results/arithmetics'\n",
    "BASE = 'base'\n",
    "PROMPT = 'prompt'\n",
    "PROMPT_ACROSS_TAGS = 'prompt_across_tags'\n",
    "ANSWER_TO_PROMPT = 'answer_to_prompt'\n",
    "ANSWER_TO_PROMPT_ACROSS_TAGS = 'answer_to_prompt_across_tags'"
   ]
  }
 ],
 "metadata": {
  "language_info": {
   "name": "python"
  },
  "orig_nbformat": 4
 },
 "nbformat": 4,
 "nbformat_minor": 2
}
